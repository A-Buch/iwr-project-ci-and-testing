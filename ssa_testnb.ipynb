{
 "cells": [
  {
   "cell_type": "code",
   "execution_count": 1,
   "metadata": {},
   "outputs": [],
   "source": [
    "from datetime import datetime\n",
    "import os\n",
    "#  import time\n",
    "#  from multiprocess import Pool\n",
    "import numpy as np\n",
    "import iris\n",
    "import iris.coord_categorisation as icc\n",
    "import math\n",
    "import matplotlib.pyplot as plt\n",
    "from pyts.decomposition import SSA"
   ]
  },
  {
   "cell_type": "code",
   "execution_count": 2,
   "metadata": {},
   "outputs": [],
   "source": [
    "# SSA options\n",
    "window_size = 365\n",
    "grouping = 10"
   ]
  },
  {
   "cell_type": "code",
   "execution_count": 3,
   "metadata": {},
   "outputs": [
    {
     "name": "stdout",
     "output_type": "stream",
     "text": [
      "Job started at: 2019-03-12 15:01:01.919503\n"
     ]
    },
    {
     "name": "stderr",
     "output_type": "stream",
     "text": [
      "/home/bschmidt/.programs/anaconda3/envs/detrending/lib/python3.7/site-packages/iris/analysis/cartography.py:394: UserWarning: Using DEFAULT_SPHERICAL_EARTH_RADIUS.\n",
      "  warnings.warn(\"Using DEFAULT_SPHERICAL_EARTH_RADIUS.\")\n"
     ]
    }
   ],
   "source": [
    "# specify paths\n",
    "out_script = '/home/bschmidt/scripts/detrending/output/gmt.out'\n",
    "source_path = '/home/bschmidt/data/test_data_tas.nc4'\n",
    "dest_path = '/home/bschmidt/data/test_gmt.nc'\n",
    "\n",
    "# Get jobs starting time\n",
    "STIME = datetime.now()\n",
    "with open(out_script, 'w') as out:\n",
    "    out.write('Job started at: ' + str(STIME) + '\\n')\n",
    "print('Job started at: ' + str(STIME))\n",
    "\n",
    "# load data and add auxiliary variable \"doy\"\n",
    "data = iris.load_cube(source_path)\n",
    "icc.add_day_of_year(data, 'time')\n",
    "\n",
    "#  Let iris figure out cell boundaries and calculate\n",
    "#  global mean temperatures weighted by cell area\n",
    "data.coord('latitude').guess_bounds()\n",
    "data.coord('longitude').guess_bounds()\n",
    "grid_areas = iris.analysis.cartography.area_weights(data)\n",
    "# .collapsed method applieas a function to a grid and outputs\n",
    "col = data.collapsed(['longitude', 'latitude'],\n",
    "                                iris.analysis.MEAN,\n",
    "                                weights=grid_areas)\n",
    "del data"
   ]
  },
  {
   "cell_type": "code",
   "execution_count": 4,
   "metadata": {},
   "outputs": [
    {
     "name": "stdout",
     "output_type": "stream",
     "text": [
      "[[285.49600647 285.63576058 285.7278155  ... 286.7350526  286.52409364\n",
      "  286.45364832]]\n"
     ]
    }
   ],
   "source": [
    "col = np.array(col.data[::10], ndmin=2)\n",
    "print(col)"
   ]
  },
  {
   "cell_type": "code",
   "execution_count": null,
   "metadata": {},
   "outputs": [],
   "source": [
    "fft = np.fft.fft(col.data, axis=0)\n",
    "freq = np.fft.fftfreq(col.shape[-1])\n",
    "print(fft.imag)\n",
    "x = freq[:math.floor(len(col.data)/2)]\n",
    "for i in range(len(x)):\n",
    "    if x[i] > 0.0001: # cut off all frequencies higher than 0.005\n",
    "        fft[i] = 0.0\n",
    "        fft[math.floor(len(col.data)/2) + i] = 0.0\n",
    "inverse = np.fft.ifft(fft)"
   ]
  },
  {
   "cell_type": "code",
   "execution_count": 5,
   "metadata": {},
   "outputs": [],
   "source": [
    "ssa = SSA(window_size, grouping)\n",
    "X_ssa = ssa.fit_transform(col)"
   ]
  },
  {
   "cell_type": "code",
   "execution_count": null,
   "metadata": {},
   "outputs": [],
   "source": [
    "# Show the results for the first time series\n",
    "plt.figure(figsize=(12, 8))\n",
    "plt.plot(inverse, '--', label='low-passed')\n",
    "#plt.plot()\n",
    "#plt.plot(fft, 'o-', label='Original')\n",
    "#plt.plot(freq, fft.real, freq, fft.imag)\n",
    "#plt.ylim((0, 500))\n",
    "#plt.plot(X_ssa[0, 0], 'o--', label='SSA')\n",
    "plt.legend(loc='best', fontsize=14)\n",
    "plt.show()"
   ]
  }
 ],
 "metadata": {
  "kernelspec": {
   "display_name": "Python 3",
   "language": "python",
   "name": "python3"
  },
  "language_info": {
   "codemirror_mode": {
    "name": "ipython",
    "version": 3
   },
   "file_extension": ".py",
   "mimetype": "text/x-python",
   "name": "python",
   "nbconvert_exporter": "python",
   "pygments_lexer": "ipython3",
   "version": "3.7.1"
  }
 },
 "nbformat": 4,
 "nbformat_minor": 2
}
