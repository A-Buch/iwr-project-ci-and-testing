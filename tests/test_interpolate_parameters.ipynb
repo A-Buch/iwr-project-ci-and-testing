{
 "cells": [
  {
   "cell_type": "code",
   "execution_count": null,
   "metadata": {},
   "outputs": [],
   "source": [
    "#!/usr/bin/env python3\n",
    "# coding: utf-8\n",
    "\n",
    "import sys, os\n",
    "import interpolate_parameters    \n",
    "import unittest "
   ]
  },
  {
   "cell_type": "code",
   "execution_count": null,
   "metadata": {},
   "outputs": [],
   "source": [
    "\n",
    "\n",
    "class Test_TestIncrementDecrement(unittest.TestCase):\n",
    "    def test_increment(self):\n",
    "        self.assertEqual(inc_dec.increment(3), 4)\n",
    "\n",
    "    # This test is designed to fail for demonstration purposes.\n",
    "    def test_decrement(self):\n",
    "        self.assertEqual(inc_dec.decrement(3), 4)\n",
    "\n",
    "if __name__ == '__main__':\n",
    "    unittest.main()\n"
   ]
  },
  {
   "cell_type": "code",
   "execution_count": null,
   "metadata": {},
   "outputs": [],
   "source": [
    "\n",
    "\n",
    "# Test if merging parameter files and writing them back into single parameter files is the identity function\n",
    "\n",
    "for trace_file in trace_dir.glob(\"**/lon*\"):\n",
    "    lat = get_float_from_string(trace_file.parent.name)\n",
    "    lon = get_float_from_string(trace_file.name)\n",
    "    data_vars = []\n",
    "    with open(trace_file, \"rb\") as trace:\n",
    "        params_from_model = pickle.load(trace)\n",
    "    with open(test_output / trace_file.parent.name / trace_file.name, \"rb\") as trace:\n",
    "        params_from_meged_file = pickle.load(trace)\n",
    "    np.testing.assert_equal(params_from_model, params_from_meged_file)\n",
    "\n",
    "for trace_file in test_output.glob(\"**/lon*\"):\n",
    "    lat = get_float_from_string(trace_file.parent.name)\n",
    "    lon = get_float_from_string(trace_file.name)\n",
    "    data_vars = []\n",
    "    with open(trace_dir  / trace_file.parent.name / trace_file.name, \"rb\") as trace:\n",
    "        params_from_model = pickle.load(trace)\n",
    "    with open(trace_file , \"rb\") as trace:\n",
    "        params_from_meged_file = pickle.load(trace)\n",
    "    np.testing.assert_equal(params_from_model, params_from_meged_file)\n",
    "\n"
   ]
  },
  {
   "cell_type": "code",
   "execution_count": null,
   "metadata": {},
   "outputs": [],
   "source": []
  }
 ],
 "metadata": {
  "language_info": {
   "name": "python"
  },
  "orig_nbformat": 4
 },
 "nbformat": 4,
 "nbformat_minor": 2
}
