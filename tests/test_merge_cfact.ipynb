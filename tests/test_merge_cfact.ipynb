{
 "cells": [
  {
   "cell_type": "code",
   "execution_count": 2,
   "metadata": {},
   "outputs": [],
   "source": [
    "#!/usr/bin/env python3\n",
    "# coding: utf-8\n",
    "\n",
    "sys.path.append(\"..\")  # search within parent dir of tests_folder\n",
    "## Alternative way to get on level up:\n",
    "#curr_path = \"/mnt/c/Users/Anna/Documents/UNI/HiWi/IWRcourses_PY_ML_meetings/effective_software_testing/iwr-project-automated-testing-and-continuous-integration/\"\n",
    "#sys.path.insert(0, curr_path)\n",
    "\n",
    "import pytest\n",
    "import sys, os\n",
    "from attrici import postprocess as pp\n"
   ]
  },
  {
   "cell_type": "code",
   "execution_count": 3,
   "metadata": {},
   "outputs": [],
   "source": [
    "def test_mixedCoordList_rescale_aoi():\n",
    "    \"\"\"\n",
    "    unit test for input variable of rescale_aoi()\n",
    "    \"\"\"\n",
    "    coord_list = [44.20064, 44.09166666666664,44.190, 44.09166666666664, 44.20064, 44.09166666666664, 44.09166666666664]\n",
    "    coord_list_shuffled = [-44.09166666666664, 44.190, 44.09166666666664, 44.20064, -44.20064]\n",
    "    coord_list_negative = [-44.09166666666664, 44.190, -44.20064, -44.20064, -44.09166666666664]\n",
    "    \n",
    "    assert pp.rescale_aoi(coord_list) == [2, 0, 1, 0, 2, 0, 0]\n",
    "    assert pp.rescale_aoi(coord_list_shuffled) == [1, 3, 2, 4, 0]\n",
    "    assert pp.rescale_aoi(coord_list_negative) == [1, 2, 0, 0, 1]\n",
    "\n",
    "    "
   ]
  }
 ],
 "metadata": {
  "kernelspec": {
   "display_name": "attrici_yml",
   "language": "python",
   "name": "python3"
  },
  "language_info": {
   "codemirror_mode": {
    "name": "ipython",
    "version": 3
   },
   "file_extension": ".py",
   "mimetype": "text/x-python",
   "name": "python",
   "nbconvert_exporter": "python",
   "pygments_lexer": "ipython3",
   "version": "3.7.3"
  },
  "orig_nbformat": 4
 },
 "nbformat": 4,
 "nbformat_minor": 2
}
