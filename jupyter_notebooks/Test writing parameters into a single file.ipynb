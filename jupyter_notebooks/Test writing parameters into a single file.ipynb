{
 "cells": [
  {
   "cell_type": "code",
   "execution_count": 1,
   "id": "848251e7",
   "metadata": {},
   "outputs": [],
   "source": [
    "import xarray as xr\n",
    "import matplotlib.pyplot as plt\n",
    "import numpy as np\n",
    "from pathlib import Path\n",
    "import pickle\n",
    "import re"
   ]
  },
  {
   "cell_type": "code",
   "execution_count": 2,
   "id": "6c71a9e8",
   "metadata": {},
   "outputs": [],
   "source": [
    "trace_dir = Path(\"/p/tmp/annabu/attrici_interpolation/output_corr/testarea_31/traces/tas\")"
   ]
  },
  {
   "cell_type": "code",
   "execution_count": 3,
   "id": "64c9226c",
   "metadata": {},
   "outputs": [],
   "source": [
    "def get_float_from_string(file_name):\n",
    "    floats_in_string = re.findall(r\"[-+]?(?:\\d*\\.*\\d+)\", file_name)\n",
    "    if len(floats_in_string) != 1:\n",
    "        raise ValueError(\"there is no ore more than one float in this string\")\n",
    "    return float(floats_in_string[0])"
   ]
  },
  {
   "cell_type": "markdown",
   "id": "ca213fca",
   "metadata": {},
   "source": [
    "# Write from single parameter files to netcdf"
   ]
  },
  {
   "cell_type": "code",
   "execution_count": 4,
   "id": "25bfc6c0",
   "metadata": {},
   "outputs": [],
   "source": [
    "parameter_files = []\n",
    "for trace_file in trace_dir.glob(\"**/lon*\"):\n",
    "    lat = get_float_from_string(trace_file.parent.name)\n",
    "    lon = get_float_from_string(trace_file.name)\n",
    "    data_vars = []\n",
    "    with open(trace_file, \"rb\") as trace:\n",
    "        free_params = pickle.load(trace)\n",
    "    for key in free_params.keys():\n",
    "        try:\n",
    "            d = np.arange(len(free_params[key]))\n",
    "        except TypeError as e:\n",
    "            if str(e) == \"len() of unsized object\":\n",
    "                d = np.arange(1)\n",
    "            else:\n",
    "                raise e\n",
    "\n",
    "        data_vars.append(\n",
    "            xr.DataArray(\n",
    "                dims=[\"lat\", \"lon\", \"d\"],\n",
    "                data=free_params[key].reshape((1,1,-1)),\n",
    "                coords={\n",
    "                    \"lat\": (\"lat\", [lat]),\n",
    "                    \"lon\": (\"lon\", [lon]),\n",
    "                    \"d\": (\"d\", d),\n",
    "                },\n",
    "                name=key\n",
    "            )\n",
    "        )\n",
    "    parameter_files.append(xr.merge(data_vars))\n",
    "\n",
    "merged_parameters = xr.merge(parameter_files)"
   ]
  },
  {
   "cell_type": "code",
   "execution_count": 7,
   "id": "f72e2303",
   "metadata": {},
   "outputs": [],
   "source": [
    "?merged_parameters.to_netcdf"
   ]
  },
  {
   "cell_type": "markdown",
   "id": "22b206c7",
   "metadata": {},
   "source": [
    "# Write from netcdf file back to parameter files"
   ]
  },
  {
   "cell_type": "code",
   "execution_count": 5,
   "id": "f9875424",
   "metadata": {},
   "outputs": [],
   "source": [
    "test_output = Path(\"test_output/tas\")\n",
    "test_output.mkdir(exist_ok=True, parents=True)\n",
    "\n",
    "for i in range(len(merged_parameters.lat)):\n",
    "    for j in range(len(merged_parameters.lon)):\n",
    "        ## If all values for a gridcell are non then no parameter file should be stored\n",
    "        if len(merged_parameters[\"logp\"].isel(lat=i, lon=j).dropna(dim=\"d\"))==0:\n",
    "            continue\n",
    "        parameter_dict = {}\n",
    "        for key in merged_parameters:\n",
    "            parameter = merged_parameters[key].isel(lat=i, lon=j).dropna(dim=\"d\")\n",
    "            parameter_dict[key] = parameter.to_numpy().squeeze()\n",
    "            \n",
    "        lat = merged_parameters.isel(lat=i, lon=j).lat.item()\n",
    "        lon = merged_parameters.isel(lat=i, lon=j).lon.item()\n",
    "        \n",
    "        outdir = test_output / f\"lat_{lat}\"\n",
    "        outdir.mkdir(exist_ok=True, parents=True)\n",
    "        with open(outdir / f\"lon{lon}\", \"wb\") as trace:\n",
    "            free_params = pickle.dump(parameter_dict, trace)\n"
   ]
  },
  {
   "cell_type": "markdown",
   "id": "8310aedc",
   "metadata": {},
   "source": [
    "# Test if merging parameter files and writing them back into single parameter files is the identity function"
   ]
  },
  {
   "cell_type": "code",
   "execution_count": 6,
   "id": "7a91573f",
   "metadata": {},
   "outputs": [],
   "source": [
    "for trace_file in trace_dir.glob(\"**/lon*\"):\n",
    "    lat = get_float_from_string(trace_file.parent.name)\n",
    "    lon = get_float_from_string(trace_file.name)\n",
    "    data_vars = []\n",
    "    with open(trace_file, \"rb\") as trace:\n",
    "        params_from_model = pickle.load(trace)\n",
    "    with open(test_output / trace_file.parent.name / trace_file.name, \"rb\") as trace:\n",
    "        params_from_meged_file = pickle.load(trace)\n",
    "    np.testing.assert_equal(params_from_model, params_from_meged_file)\n",
    "\n",
    "for trace_file in test_output.glob(\"**/lon*\"):\n",
    "    lat = get_float_from_string(trace_file.parent.name)\n",
    "    lon = get_float_from_string(trace_file.name)\n",
    "    data_vars = []\n",
    "    with open(trace_dir  / trace_file.parent.name / trace_file.name, \"rb\") as trace:\n",
    "        params_from_model = pickle.load(trace)\n",
    "    with open(trace_file , \"rb\") as trace:\n",
    "        params_from_meged_file = pickle.load(trace)\n",
    "    np.testing.assert_equal(params_from_model, params_from_meged_file)"
   ]
  },
  {
   "cell_type": "code",
   "execution_count": null,
   "id": "38b33700",
   "metadata": {},
   "outputs": [],
   "source": []
  }
 ],
 "metadata": {
  "kernelspec": {
   "display_name": "Python 3 (ipykernel)",
   "language": "python",
   "name": "python3"
  },
  "language_info": {
   "codemirror_mode": {
    "name": "ipython",
    "version": 3
   },
   "file_extension": ".py",
   "mimetype": "text/x-python",
   "name": "python",
   "nbconvert_exporter": "python",
   "pygments_lexer": "ipython3",
   "version": "3.9.13"
  }
 },
 "nbformat": 4,
 "nbformat_minor": 5
}
