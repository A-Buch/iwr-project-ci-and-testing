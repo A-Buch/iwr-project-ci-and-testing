{
 "cells": [
  {
   "attachments": {},
   "cell_type": "markdown",
   "metadata": {},
   "source": [
    "#### AIM: \n",
    "Create binary mask, which is later used to select every third cell from param.nc\n",
    "- Binary values:  nan and 1\n",
    "- mask.shape: (n*3)+1"
   ]
  },
  {
   "cell_type": "code",
   "execution_count": null,
   "metadata": {},
   "outputs": [],
   "source": [
    "import numpy as np\n",
    "import netCDF4 as nc\n",
    "import xarray as xr\n",
    "import matplotlib.pylab as plt\n",
    "import subprocess\n",
    "import settings as s\n",
    "\n",
    "plt.rcParams[\"font.size\"] = 10\n",
    "plt.rcParams[\"figure.figsize\"] = 12,8\n"
   ]
  },
  {
   "cell_type": "code",
   "execution_count": null,
   "metadata": {},
   "outputs": [],
   "source": [
    "## generate binary mask of 19*19 cells\n",
    "x = np.arange(0,19)\n",
    "mask = np.full(len(x)*19, np.nan).reshape(19,19)\n",
    "mask[::3 , ::3] = np.int64(1)\n",
    "type(mask[0])\n",
    "mask\n"
   ]
  },
  {
   "cell_type": "code",
   "execution_count": null,
   "metadata": {},
   "outputs": [],
   "source": [
    "## crop existing landseamask file to 19x19 cells\n",
    "\n",
    "inf = s.input_dir + \"/landmask_for_testing.nc\"\n",
    "outf = s.input_dir + \"/landmask_for_testing_19.nc\"\n",
    "\n",
    "cmd = f\"cdo -f nc4c -z zip selindexbox,0,19,0,19  {inf} {outf}\"\n",
    "print(cmd)\n",
    "subprocess.check_call(cmd, shell=True)"
   ]
  },
  {
   "cell_type": "code",
   "execution_count": 1,
   "metadata": {},
   "outputs": [
    {
     "ename": "NameError",
     "evalue": "name 's' is not defined",
     "output_type": "error",
     "traceback": [
      "\u001b[1;31m---------------------------------------------------------------------------\u001b[0m",
      "\u001b[1;31mNameError\u001b[0m                                 Traceback (most recent call last)",
      "Cell \u001b[1;32mIn [1], line 4\u001b[0m\n\u001b[0;32m      2\u001b[0m os\u001b[39m.\u001b[39mgetcwd()\n\u001b[0;32m      3\u001b[0m \u001b[39m#os.chdir(\"/mnt/c/Users/Anna/Documents/UNI/PIK/develop/\")\u001b[39;00m\n\u001b[1;32m----> 4\u001b[0m s\u001b[39m.\u001b[39moutput_dir \u001b[39m=\u001b[39m \u001b[39m\"\u001b[39m\u001b[39m/mnt/c/Users/Anna/Documents/UNI/PIK/improve_performance/test_output_correlation\u001b[39m\u001b[39m\"\u001b[39m\n",
      "\u001b[1;31mNameError\u001b[0m: name 's' is not defined"
     ]
    }
   ],
   "source": [
    "import os\n",
    "os.getcwd()\n",
    "#os.chdir(\"/mnt/c/Users/Anna/Documents/UNI/PIK/develop/\")\n",
    "s.output_dir = \"/mnt/c/Users/Anna/Documents/UNI/PIK/improve_performance/test_output_correlation\"\n",
    "#s.input_dir = \"/mnt/c/Users/Anna/Documents/UNI/PIK/develop/test_input\""
   ]
  },
  {
   "cell_type": "code",
   "execution_count": 110,
   "metadata": {},
   "outputs": [
    {
     "name": "stdout",
     "output_type": "stream",
     "text": [
      "Frozen(OrderedDict([('time', <xarray.IndexVariable 'time' (time: 25933)>\n",
      "array(['1950-01-01T18:30:00.000000000', '1950-01-02T18:00:00.000000000',\n",
      "       '1950-01-03T18:00:00.000000000', ..., '2020-12-29T18:00:00.000000000',\n",
      "       '2020-12-30T18:00:00.000000000', '2020-12-31T18:00:00.000000000'],\n",
      "      dtype='datetime64[ns]')), ('lon', <xarray.IndexVariable 'lon' (lon: 19)>\n",
      "array([7.491667, 7.508333, 7.525   , 7.541667, 7.558333, 7.575   , 7.591667,\n",
      "       7.608333, 7.625   , 7.641667, 7.658333, 7.675   , 7.691667, 7.708333,\n",
      "       7.725   , 7.741667, 7.758333, 7.775   , 7.791667])\n",
      "Attributes:\n",
      "    units:          degree_east\n",
      "    long_name:      longitude\n",
      "    standard_name:  longitude), ('lat', <xarray.IndexVariable 'lat' (lat: 19)>\n",
      "array([44.108333, 44.091667, 44.075   , 44.058333, 44.041667, 44.025   ,\n",
      "       44.008333, 43.991667, 43.975   , 43.958333, 43.941667, 43.925   ,\n",
      "       43.908333, 43.891667, 43.875   , 43.858333, 43.841667, 43.825   ,\n",
      "       43.808333])\n",
      "Attributes:\n",
      "    units:          degree_north\n",
      "    long_name:      latitude\n",
      "    standard_name:  latitude), ('weights_longterm_intercept', <xarray.Variable (time: 25933, lat: 19, lon: 19)>\n",
      "[9361813 values with dtype=float32]), ('weights_longterm_trend', <xarray.Variable (time: 25933, lat: 19, lon: 19)>\n",
      "[9361813 values with dtype=float32]), ('weights_fc_intercept_0', <xarray.Variable (time: 25933, lat: 19, lon: 19)>\n",
      "[9361813 values with dtype=float32]), ('weights_fc_intercept_1', <xarray.Variable (time: 25933, lat: 19, lon: 19)>\n",
      "[9361813 values with dtype=float32]), ('weights_fc_intercept_2', <xarray.Variable (time: 25933, lat: 19, lon: 19)>\n",
      "[9361813 values with dtype=float32]), ('weights_fc_intercept_3', <xarray.Variable (time: 25933, lat: 19, lon: 19)>\n",
      "[9361813 values with dtype=float32]), ('weights_fc_trend', <xarray.Variable (time: 25933, lat: 19, lon: 19)>\n",
      "[9361813 values with dtype=float32]), ('weights_sigma_longterm_intercept', <xarray.Variable (time: 25933, lat: 19, lon: 19)>\n",
      "[9361813 values with dtype=float32]), ('weights_sigma_fc_intercept_0', <xarray.Variable (time: 25933, lat: 19, lon: 19)>\n",
      "[9361813 values with dtype=float32]), ('weights_sigma_fc_intercept_1', <xarray.Variable (time: 25933, lat: 19, lon: 19)>\n",
      "[9361813 values with dtype=float32]), ('weights_sigma_fc_intercept_2', <xarray.Variable (time: 25933, lat: 19, lon: 19)>\n",
      "[9361813 values with dtype=float32]), ('weights_sigma_fc_intercept_3', <xarray.Variable (time: 25933, lat: 19, lon: 19)>\n",
      "[9361813 values with dtype=float32]), ('mu', <xarray.Variable (time: 25933, lat: 19, lon: 19)>\n",
      "[9361813 values with dtype=float32]), ('sigma', <xarray.Variable (time: 25933, lat: 19, lon: 19)>\n",
      "[9361813 values with dtype=float32]), ('logp', <xarray.Variable (time: 25933, lat: 19, lon: 19)>\n",
      "[9361813 values with dtype=float32])]))\n"
     ]
    }
   ],
   "source": [
    "# open cropped landseamask file to overwrite its variable\n",
    "#mask_file = s.input_dir + \"/gswp3-w5e5_ssa_gmt.nc4\"\n",
    "#mask_file = s.output_dir + \"/tas_trace_shape19_pickle_33.nc4\" #s.input_dir / s.dataset / 'hurs_gswp3-w5e5_merged.nc4'\n",
    "mask_file = s.output_dir + \"/tas_trace_shape19_hpc.nc4\" #s.input_dir / s.dataset / 'hurs_gswp3-w5e5_merged.nc4'\n",
    "#out = s.input_dir + \"/\" + s.dataset + \"/\" + 'b_mask.nc'\n",
    "\n",
    "mask_file = xr.open_dataset(mask_file)\n",
    "print(mask_file.variables)"
   ]
  },
  {
   "cell_type": "code",
   "execution_count": 111,
   "metadata": {},
   "outputs": [
    {
     "data": {
      "text/plain": [
       "<xarray.Variable (lat: 10, lon: 19)>\n",
       "array([[     nan,      nan,      nan,      nan, 0.052505,      nan,      nan,\n",
       "        0.052802,      nan,      nan,      nan,      nan,      nan,      nan,\n",
       "             nan,      nan,      nan,      nan,      nan],\n",
       "       [     nan,      nan,      nan,      nan,      nan,      nan,      nan,\n",
       "             nan,      nan,      nan,      nan,      nan,      nan,      nan,\n",
       "        0.055758,      nan,      nan,      nan,      nan],\n",
       "       [     nan,      nan,      nan,      nan,      nan,      nan,      nan,\n",
       "             nan,      nan,      nan,      nan,      nan,      nan,      nan,\n",
       "             nan,      nan,      nan,      nan,      nan],\n",
       "       [     nan,      nan,      nan,      nan,      nan,      nan,      nan,\n",
       "             nan,      nan,      nan,      nan,      nan,      nan,      nan,\n",
       "             nan,      nan,      nan,      nan,      nan],\n",
       "       [     nan,      nan,      nan,      nan,      nan,      nan,      nan,\n",
       "             nan,      nan,      nan,      nan,      nan,      nan,      nan,\n",
       "             nan,      nan,      nan,      nan,      nan],\n",
       "       [     nan,      nan,      nan,      nan,      nan,      nan,      nan,\n",
       "             nan,      nan,      nan,      nan,      nan,      nan,      nan,\n",
       "             nan,      nan,      nan,      nan,      nan],\n",
       "       [     nan,      nan,      nan,      nan,      nan,      nan,      nan,\n",
       "             nan,      nan,      nan,      nan,      nan,      nan,      nan,\n",
       "             nan,      nan,      nan,      nan,      nan],\n",
       "       [     nan,      nan,      nan,      nan,      nan,      nan,      nan,\n",
       "             nan,      nan,      nan,      nan, 0.056512,      nan,      nan,\n",
       "             nan,      nan,      nan,      nan,      nan],\n",
       "       [     nan,      nan,      nan,      nan,      nan,      nan,      nan,\n",
       "             nan,      nan,      nan,      nan,      nan,      nan,      nan,\n",
       "             nan,      nan,      nan,      nan,      nan],\n",
       "       [     nan,      nan,      nan,      nan,      nan,      nan,      nan,\n",
       "             nan,      nan,      nan, 0.054823,      nan,      nan,      nan,\n",
       "             nan,      nan,      nan,      nan,      nan]], dtype=float32)"
      ]
     },
     "execution_count": 111,
     "metadata": {},
     "output_type": "execute_result"
    }
   ],
   "source": [
    "mask_file.variables[\"weights_longterm_trend\"][0,:10,:]"
   ]
  },
  {
   "cell_type": "code",
   "execution_count": 112,
   "metadata": {},
   "outputs": [
    {
     "name": "stdout",
     "output_type": "stream",
     "text": [
      "<xarray.Variable (lon: 19)>\n",
      "array([19, 19, 19, 19, 18, 18, 18, 18, 19, 19, 19, 18, 17, 18, 18, 19, 18, 19,\n",
      "       19])\n"
     ]
    },
    {
     "data": {
      "text/plain": [
       "(25933, 19, 19)"
      ]
     },
     "execution_count": 112,
     "metadata": {},
     "output_type": "execute_result"
    }
   ],
   "source": [
    "print(sum(np.isnan(mask_file.variables[\"weights_sigma_fc_intercept_3\"][ 0, :, :])))\n",
    "mask_file.variables[\"weights_sigma_fc_intercept_3\"].shape"
   ]
  },
  {
   "cell_type": "code",
   "execution_count": 114,
   "metadata": {},
   "outputs": [
    {
     "data": {
      "text/plain": [
       "<xarray.Variable (lat: 10, lon: 19)>\n",
       "array([[      nan,       nan,       nan,       nan, -0.166552,       nan,\n",
       "              nan, -0.167439,       nan,       nan,       nan,       nan,\n",
       "              nan,       nan,       nan,       nan,       nan,       nan,\n",
       "              nan],\n",
       "       [      nan,       nan,       nan,       nan,       nan,       nan,\n",
       "              nan,       nan,       nan,       nan,       nan,       nan,\n",
       "              nan,       nan, -0.18216 ,       nan,       nan,       nan,\n",
       "              nan],\n",
       "       [      nan,       nan,       nan,       nan,       nan,       nan,\n",
       "              nan,       nan,       nan,       nan,       nan,       nan,\n",
       "              nan,       nan,       nan,       nan,       nan,       nan,\n",
       "              nan],\n",
       "       [      nan,       nan,       nan,       nan,       nan,       nan,\n",
       "              nan,       nan,       nan,       nan,       nan,       nan,\n",
       "              nan,       nan,       nan,       nan,       nan,       nan,\n",
       "              nan],\n",
       "       [      nan,       nan,       nan,       nan,       nan,       nan,\n",
       "              nan,       nan,       nan,       nan,       nan,       nan,\n",
       "              nan,       nan,       nan,       nan,       nan,       nan,\n",
       "              nan],\n",
       "       [      nan,       nan,       nan,       nan,       nan,       nan,\n",
       "              nan,       nan,       nan,       nan,       nan,       nan,\n",
       "              nan,       nan,       nan,       nan,       nan,       nan,\n",
       "              nan],\n",
       "       [      nan,       nan,       nan,       nan,       nan,       nan,\n",
       "              nan,       nan,       nan,       nan,       nan,       nan,\n",
       "              nan,       nan,       nan,       nan,       nan,       nan,\n",
       "              nan],\n",
       "       [      nan,       nan,       nan,       nan,       nan,       nan,\n",
       "              nan,       nan,       nan,       nan,       nan, -0.173583,\n",
       "              nan,       nan,       nan,       nan,       nan,       nan,\n",
       "              nan],\n",
       "       [      nan,       nan,       nan,       nan,       nan,       nan,\n",
       "              nan,       nan,       nan,       nan,       nan,       nan,\n",
       "              nan,       nan,       nan,       nan,       nan,       nan,\n",
       "              nan],\n",
       "       [      nan,       nan,       nan,       nan,       nan,       nan,\n",
       "        -0.179801,       nan,       nan,       nan,       nan,       nan,\n",
       "              nan,       nan,       nan,       nan,       nan,       nan,\n",
       "              nan]], dtype=float32)"
      ]
     },
     "execution_count": 114,
     "metadata": {},
     "output_type": "execute_result"
    }
   ],
   "source": [
    "mask_file.variables[\"weights_fc_intercept_0\"][ 0, :10,:]"
   ]
  },
  {
   "cell_type": "code",
   "execution_count": 115,
   "metadata": {},
   "outputs": [
    {
     "data": {
      "text/plain": [
       "<matplotlib.colorbar.Colorbar at 0x7efdc40aeeb8>"
      ]
     },
     "execution_count": 115,
     "metadata": {},
     "output_type": "execute_result"
    },
    {
     "data": {
      "image/png": "[encoded data removed]",
      "text/plain": [
       "<Figure size 432x288 with 2 Axes>"
      ]
     },
     "metadata": {
      "needs_background": "light"
     },
     "output_type": "display_data"
    }
   ],
   "source": [
    "plt.imshow(mask_file.variables[\"weights_fc_intercept_0\"][0,  :, :])\n",
    "plt.colorbar()\n"
   ]
  },
  {
   "cell_type": "code",
   "execution_count": null,
   "metadata": {},
   "outputs": [],
   "source": [
    "## overwrite current landseamask variable \n",
    "mask_file['area_European_01min'][:] = mask\n",
    "mask_file.variables[\"area_European_01min\"] #t = t.to_array()"
   ]
  },
  {
   "cell_type": "code",
   "execution_count": null,
   "metadata": {},
   "outputs": [],
   "source": [
    "mask_file[\"binary_mask\"] = mask_file[\"area_European_01min\"]\n",
    "mask_file = mask_file.drop(['area_European_01min'])\n",
    "mask_file.variables[\"binary_mask\"][:, :]"
   ]
  },
  {
   "cell_type": "code",
   "execution_count": null,
   "metadata": {},
   "outputs": [],
   "source": [
    "plt.imshow(mask_file.variables[\"binary_mask\"][ :, :])\n"
   ]
  },
  {
   "cell_type": "code",
   "execution_count": null,
   "metadata": {},
   "outputs": [],
   "source": [
    "mask_file.to_netcdf(out)\n",
    "out.close()"
   ]
  },
  {
   "cell_type": "code",
   "execution_count": null,
   "metadata": {},
   "outputs": [],
   "source": []
  }
 ],
 "metadata": {
  "kernelspec": {
   "display_name": "attrici_yml",
   "language": "python",
   "name": "python3"
  },
  "language_info": {
   "codemirror_mode": {
    "name": "ipython",
    "version": 3
   },
   "file_extension": ".py",
   "mimetype": "text/x-python",
   "name": "python",
   "nbconvert_exporter": "python",
   "pygments_lexer": "ipython3",
   "version": "3.7.3"
  },
  "orig_nbformat": 4,
  "vscode": {
   "interpreter": {
    "hash": "532409078990e73cf7a5cc7c94c0b3c10e564de71da68c3c26a770e0ab28fed7"
   }
  }
 },
 "nbformat": 4,
 "nbformat_minor": 2
}
