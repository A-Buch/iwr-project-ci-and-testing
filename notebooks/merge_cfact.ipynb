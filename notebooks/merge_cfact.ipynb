{
 "cells": [
  {
   "cell_type": "markdown",
   "metadata": {},
   "source": [
    "#### AIM: check how h5 timeseries fiels are processed in merge_cfact.py and why the cfact data is getting lost during the process"
   ]
  },
  {
   "cell_type": "code",
   "execution_count": 77,
   "metadata": {},
   "outputs": [],
   "source": [
    "#!/usr/bin/env python3\n",
    "\n",
    "# coding: utf-8\n",
    "\n",
    "import os\n",
    "import glob\n",
    "import math\n",
    "import itertools as it\n",
    "from pathlib import Path\n",
    "import netCDF4 as nc\n",
    "import numpy as np\n",
    "import pandas as pd\n",
    "from datetime import datetime\n",
    "import subprocess\n",
    "import attrici.postprocess as pp\n",
    "import settings as s\n",
    "from matplotlib import pyplot as plt \n",
    "\n"
   ]
  },
  {
   "cell_type": "code",
   "execution_count": 78,
   "metadata": {},
   "outputs": [],
   "source": [
    "os.getcwd()\n",
    "s.variable = \"hurs\"\n",
    "s.lateral_sub = 1\n",
    "\n",
    "s.output_dir = Path(\"/mnt/c/Users/Anna/Documents/UNI/PIK/develop/test_output\")\n",
    "s.input_dir = \"/mnt/c/Users/Anna/Documents/UNI/PIK/develop/test_input/\"\n",
    "#s.source_file = f\"{s.variable}_gswp3-w5e5_sub40.nc4\"\n",
    "s.source_file = f\"{s.variable}_gswp3-w5e5_merged.nc4\""
   ]
  },
  {
   "cell_type": "code",
   "execution_count": 79,
   "metadata": {},
   "outputs": [],
   "source": [
    "def round_float_down(num, step=0):\n",
    "    '''\n",
    "    Takes a float and rounds it always down to user-defined decimal place\n",
    "    params: num : foat number\n",
    "    params: step : decimal place\n",
    "    return: float\n",
    "    Copyied from : https://stackoverflow.com/questions/9404967/taking-the-floor-of-a-float\n",
    "    '''\n",
    "    if not step:\n",
    "        return math.floor(num)\n",
    "    if step < 0:\n",
    "        mplr = 10 ** (step * -1)\n",
    "        return math.floor(num / mplr) * mplr\n",
    "    ncnt = step\n",
    "    if 1 > step > 0:\n",
    "        ndec, ncnt = .0101, 1\n",
    "        while ndec > step:\n",
    "            ndec *= .1\n",
    "            ncnt += 1\n",
    "    mplr = 10 ** ncnt\n",
    "    return round(math.floor(num * mplr) / mplr, ncnt)\n",
    "\n",
    "\n",
    "## TODO: make this more robust, so that also a regional AOI with subsets (e.g 40) is usable \n",
    "def rescale_squared_aoi(coord_list, coord_float):\n",
    "    '''\n",
    "    Rescales squared aoi, returns rescaled indices latitude or longitude\n",
    "    params: coord_list: list of floats, list of lat or lon coordinates of the aoi\n",
    "    params: coord_float: float, latitude or longitude derived from timeseries filename\n",
    "    return: integer\n",
    "    '''\n",
    "    ## get correct amount of indices by rounding down always the minimum extent and round up the maximum extent\n",
    "    coord_min = round_float_down(min(coord_list), 2) \n",
    "    coord_max = math.ceil(max(coord_list)*100) / 100 \n",
    "\n",
    "    ## Formular: (new_max - new_min) / (old_max - old_min) * (v - old_min) + new_min\n",
    "    coord_indice = int( (coord_list.shape[0] - 0) / ( coord_max - coord_min) * (coord_float - coord_min) + 0 )\n",
    "    # org:  coord_indice = int( (coord_list.shape[0] - 0) / ( coord_max - coord_min) * (coord_float - coord_min) + 0 )\n",
    "\n",
    "    return coord_indice\n",
    "    \n"
   ]
  },
  {
   "cell_type": "code",
   "execution_count": 80,
   "metadata": {},
   "outputs": [
    {
     "name": "stdout",
     "output_type": "stream",
     "text": [
      "hurs\n",
      "/mnt/c/Users/Anna/Documents/UNI/PIK/develop/test_output/timeseries/hurs\n"
     ]
    },
    {
     "data": {
      "text/plain": [
       "masked_array(data=[44.10833333, 44.09166667, 44.075     , 44.05833333,\n",
       "                   44.04166667, 44.025     , 44.00833333, 43.99166667,\n",
       "                   43.975     , 43.95833333, 43.94166667, 43.925     ,\n",
       "                   43.90833333, 43.89166667, 43.875     , 43.85833333,\n",
       "                   43.84166667, 43.825     , 43.80833333, 43.79166667,\n",
       "                   43.775     ],\n",
       "             mask=False,\n",
       "       fill_value=1e+20)"
      ]
     },
     "execution_count": 80,
     "metadata": {},
     "output_type": "execute_result"
    }
   ],
   "source": [
    "# options for postprocess\n",
    "rechunk = False\n",
    "# cdo_processing needs rechunk\n",
    "cdo_processing = False\n",
    "\n",
    "TIME0 = datetime.now()\n",
    "\n",
    "\n",
    "print(s.variable)\n",
    "ts_dir = s.output_dir / \"timeseries\" / s.variable\n",
    "cfact_dir = s.output_dir / \"cfact\" /   s.variable\n",
    "\n",
    "data_gen = ts_dir.glob(\"**/*\" + s.storage_format)\n",
    "print(ts_dir)\n",
    "cfact_dir.mkdir(parents=True, exist_ok=True)\n",
    "cfact_file = cfact_dir / s.cfact_file\n",
    "\n",
    "\n",
    "### access data from source file\n",
    "#obs = nc.Dataset(s.source_file, \"r\")\n",
    "obs = nc.Dataset(Path(s.input_dir) / s.dataset / s.source_file.lower(), \"r\")\n",
    "time = obs.variables[\"time\"][:]\n",
    "lat = obs.variables[\"lat\"][:]\n",
    "lon = obs.variables[\"lon\"][:]\n",
    "\n",
    "lat\n"
   ]
  },
  {
   "cell_type": "code",
   "execution_count": 81,
   "metadata": {},
   "outputs": [
    {
     "name": "stdout",
     "output_type": "stream",
     "text": [
      "21 21\n",
      "21 21\n",
      "[ 0  1  2  3  4  5  6  7  8  9 10 11 12 13 14 15 16 17 18 19 20]\n",
      "[ 0  1  2  3  4  5  6  7  8  9 10 11 12 13 14 15 16 17 18 19 20]\n"
     ]
    }
   ],
   "source": [
    "### check which data is available\n",
    "data_list = []\n",
    "lat_indices = []\n",
    "lon_indices = []\n",
    "\n",
    "for i in data_gen:\n",
    "    data_list.append(str(i))\n",
    "    lat_float = float(str(i).split(\"lat\")[-1].split(\"_\")[0])\n",
    "    lon_float = float(str(i).split(\"lon\")[-1].split(s.storage_format)[0])\n",
    "\n",
    "    ## squared extent of AOI (rescaling needed)   \n",
    "    if s.lateral_sub == 1 :\n",
    "        #min_lat = math.ceil(min(lat)*100) / 100  # test: round up\n",
    "        min_lat = round_float_down(min(lat), 3) \n",
    "        max_lat = math.ceil(max(lat)*100) / 100\n",
    "        min_lon = round_float_down(min(lon), 3) \n",
    "        max_lon = math.ceil(max(lon)*100) / 100\n",
    "        \n",
    "        lat_indices.append(\n",
    "            int( (lat.shape[0] - 0) / ( max_lat - min_lat) * (lat_float - min_lat) + 0 )\n",
    "        )\n",
    "        lon_indices.append(\n",
    "            int( (lon.shape[0] - 0) / ( max_lon - min_lon) * (lon_float - min_lon) + 0)\n",
    "        )\n",
    "        #lat_indices =  np.arange(21) \n",
    "        #lon_indices =  np.arange(21) \n",
    "\n",
    "\n",
    "        #lat_indices.append( rescale_squared_aoi(lat, lat_float ))\n",
    "        #lon_indices.append( rescale_squared_aoi(lon, lon_float ))\n",
    "\n",
    "    ## rectangular extent of AOI (no rescaling needed)\n",
    "    else:  \n",
    "        lat_indices.append(int(180 - 2 * lat_float - 0.5))\n",
    "        lon_indices.append(int(2 * lon_float - 0.5 + 360))\n",
    "\n",
    "    \n",
    "print(len(lat_indices), len(lon_indices) )  # shape 51 x 51 (org sub40))\n",
    "print(len(np.unique(lat_indices)), len(np.unique(lon_indices)) )  # 7 x 16 (org sub40)\n",
    "print(np.unique(lat_indices))\n",
    "print(np.unique(lon_indices))  \n",
    "\n",
    "# 51 51\n",
    "# 7 16\n",
    "# [ 40  80 120 160 200 240 320]\n",
    "# [ 40  80 120 160 200 240 280 360 400 440 480 520 560 600 640 680]\n",
    "\n",
    "## Cfactual should have shape of:\n",
    "## same len of indidces and unique values as ORG_merged\n",
    "# 416 416\n",
    "# 21 21\n",
    "# [ 0  1  2  3  4  5  6  7  8  9 10 11 12 13 14 15 16 17 18 19 20]\n",
    "# [ 0  1  2  3  4  5  6  7  8  9 10 11 12 13 14 15 16 17 18 19 20]\n",
    "\n",
    "\n",
    "## DOESNT WORK\n",
    "## keep number of indieces same, but make value shift -1 lower values in lat [0-20], <-> lon[1-21]"
   ]
  },
  {
   "cell_type": "code",
   "execution_count": 82,
   "metadata": {},
   "outputs": [],
   "source": [
    "#lat_indices.append(int((lat.shape[0] - 0) / ( 44.11 - min(lat)) * (lat_float - min(lat)) + 0)) \n",
    "#lon_indices.append(int((lon.shape[0] - 0) / ( 7.83 - min(lon)) * (lon_float - min(lon)) + 0))\n",
    "# lat: 43.77499999999998, 44.108333333333306, lon: 7.492666666666699 7.825000000000035\n",
    "#        43.775  , 44.11 ,   7.83  ,   7.493\n",
    "\n",
    "#print(lat, round_float_down(min(lat), 3) )\n"
   ]
  },
  {
   "cell_type": "code",
   "execution_count": 83,
   "metadata": {},
   "outputs": [],
   "source": [
    "# print(min(lat_indices), min(lon_indices) )  # 40 40  (org sub40)\n",
    "# print(max(lat_indices), max(lon_indices) )  # 320 680 (org sub40)\n",
    "# # #print(lat_indices, lon_indices)\n",
    "# #     # 360/720  (lat / lon shapes)\n",
    "\n",
    "# print(len(lat_indices)) # 51\n",
    "# print(len(lon_indices)) # 51\n",
    "# #print(lat_indices)  # lat: 43.77499999999998, 44.108333333333306, lon: 44.108333333333306 7.825000000000035\n",
    "# # #np.unique(lon_indices)\n",
    "\n",
    "# for i in np.nditer(lat):\n",
    "#     print(i)"
   ]
  },
  {
   "cell_type": "code",
   "execution_count": 84,
   "metadata": {},
   "outputs": [
    {
     "name": "stdout",
     "output_type": "stream",
     "text": [
      "1\n",
      "hurs\n"
     ]
    }
   ],
   "source": [
    "# lat_float\n",
    "# #lon_indices\n",
    "\n",
    "# #lon_indices.shape  # 416\n",
    "# #lat_indices.shape  # 416\n",
    "\n",
    "# #lon_indices  # 374, 375\n",
    "# #lat_indices  # 91\n",
    "print(s.lateral_sub)\n",
    "print(s.variable)\n",
    "\n",
    "#pd.Series(lat_indices).value_counts() # 6mal 0s, 14mal 1s, 21mal 20s"
   ]
  },
  {
   "cell_type": "code",
   "execution_count": 85,
   "metadata": {},
   "outputs": [],
   "source": [
    "\n",
    "\n",
    "# adjust indices if datasets are subsets (lat/lon-shapes are smaller than 360/720)\n",
    "# TODO: make this more robust\n",
    "lat_indices = np.array(lat_indices) / s.lateral_sub\n",
    "lon_indices = np.array(lon_indices) / s.lateral_sub\n",
    "\n",
    "#print(lat_indices, lon_indices)\n",
    "# ### access data from source file\n",
    "# #obs = nc.Dataset(Path(s.input_dir) / s.source_file.lower(), \"r\")\n",
    "# obs = nc.Dataset(Path(s.input_dir) / s.dataset / s.source_file.lower(), \"r\")\n",
    "# time = obs.variables[\"time\"][:]\n",
    "# lat = obs.variables[\"lat\"][:]\n",
    "# lon = obs.variables[\"lon\"][:]\n"
   ]
  },
  {
   "cell_type": "code",
   "execution_count": 86,
   "metadata": {},
   "outputs": [
    {
     "data": {
      "text/plain": [
       "'/mnt/c/Users/Anna/Documents/UNI/PIK/develop/test_output/timeseries/hurs/lat_43.77499999999998/ts_GSWP3-W5E5_lat43.77499999999998_lon7.491666666666699.h5'"
      ]
     },
     "execution_count": 86,
     "metadata": {},
     "output_type": "execute_result"
    }
   ],
   "source": [
    "# pd.Series(lat_indices).value_counts()\n",
    "data_list[0]\n",
    "# lat43.77499999999998_lon7.491666666666699.h5\n"
   ]
  },
  {
   "cell_type": "code",
   "execution_count": 87,
   "metadata": {},
   "outputs": [],
   "source": [
    "if s.lateral_sub == 1 :\n",
    "    lat_indices = lat_indices[: : -1]  # undone flip of spatial extent\n",
    "\n",
    "#lat_indices = np.flip(lat_indices)  # same shift "
   ]
  },
  {
   "cell_type": "code",
   "execution_count": 88,
   "metadata": {},
   "outputs": [],
   "source": [
    "#pd.Series(lat_indices).value_counts()\n",
    "lat_indices = lat_indices.astype(int)\n",
    "lon_indices = lon_indices.astype(int)"
   ]
  },
  {
   "cell_type": "code",
   "execution_count": 89,
   "metadata": {},
   "outputs": [
    {
     "data": {
      "text/plain": [
       "masked_array(data=[44.10833333, 44.09166667, 44.075     , 44.05833333,\n",
       "                   44.04166667, 44.025     , 44.00833333, 43.99166667,\n",
       "                   43.975     , 43.95833333, 43.94166667, 43.925     ,\n",
       "                   43.90833333, 43.89166667, 43.875     , 43.85833333,\n",
       "                   43.84166667, 43.825     , 43.80833333, 43.79166667,\n",
       "                   43.775     ],\n",
       "             mask=False,\n",
       "       fill_value=1e+20)"
      ]
     },
     "execution_count": 89,
     "metadata": {},
     "output_type": "execute_result"
    }
   ],
   "source": [
    "## ORG lon_indices:\n",
    "# [ 7.  6. 15. 10. 11.  6. 15. 16. 10.  9. 14. 15. 16. 17. 10. 11. 12. 13.\n",
    "#   4.  9. 14. 15. 10. 12. 13.  3.  5.  4.  9. 14. 15. 16. 10. 11. 12. 13.\n",
    "#   2.  1.  7.  5. 14. 15. 16. 17. 10. 12. 13.  9. 10. 11. 13.]\n",
    "\n",
    "\n",
    "# Modified lon_indices by my func\n",
    "# lon_indices\n",
    "\n",
    "# array([0.175, 0.15 , 0.375, 0.25 , 0.275, 0.15 , 0.375, 0.4  , 0.25 ,\n",
    "#        0.225, 0.35 , 0.375, 0.4  , 0.45 , 0.25 , 0.275, 0.3  , 0.325,\n",
    "#        0.1  , 0.225, 0.35 , 0.375, 0.25 , 0.3  , 0.325, 0.075, 0.125,\n",
    "#        0.1  , 0.225, 0.35 , 0.375, 0.4  , 0.25 , 0.275, 0.3  , 0.325,\n",
    "#        0.05 , 0.025, 0.175, 0.125, 0.35 , 0.375, 0.4  , 0.45 , 0.25 ,\n",
    "#        0.3  , 0.325, 0.225, 0.25 , 0.275, 0.325])\n",
    "\n",
    "lat#np.where(lat == lat.min())"
   ]
  },
  {
   "cell_type": "code",
   "execution_count": 90,
   "metadata": {},
   "outputs": [
    {
     "name": "stdout",
     "output_type": "stream",
     "text": [
      "Index(['ds', 'y', 'cfact', 'logp'], dtype='object')\n"
     ]
    }
   ],
   "source": [
    "\n",
    "# append later with more variables if needed\n",
    "variables_to_report = {s.variable: \"cfact\", s.variable + \"_orig\": \"y\"}\n",
    "\n",
    "\n",
    "#  get headers and form empty netCDF file with all meatdata\n",
    "headers = pp.read_from_disk(data_list[0]).keys()\n",
    "#headers = headers.drop([\"t\", \"ds\", \"gmt\", \"gmt_scaled\"])  # org\n",
    "#headers = headers.drop([\"ds\", \"y\", \"logp\"])\n",
    "# test without : headers = headers.drop(['ds', 'y','logp']) \n",
    "print(headers)\n",
    "\n",
    "cfact_file = cfact_dir / f\"{s.variable}_test_sub1_5_6.nc4\"\n",
    "out = nc.Dataset(cfact_file, \"w\", format=\"NETCDF4\")\n",
    "pp.form_global_nc(out, time, lat, lon, headers, obs.variables[\"time\"].units)\n"
   ]
  },
  {
   "cell_type": "code",
   "execution_count": 91,
   "metadata": {},
   "outputs": [
    {
     "data": {
      "text/plain": [
       "PosixPath('/mnt/c/Users/Anna/Documents/UNI/PIK/develop/test_output/timeseries/hurs/lat_44.108333333333306/ts_GSWP3-W5E5_lat44.108333333333306_lon7.825000000000035.h5')"
      ]
     },
     "execution_count": 91,
     "metadata": {},
     "output_type": "execute_result"
    }
   ],
   "source": [
    "#data_list = data_list [::-1]\n",
    "## ORG data_list order with two top entries:\n",
    "#W5E5_lat43.77499999999998_lon7.491666666666699.h5',\n",
    "#W5E5_lat43.77499999999998_lon7.508333333333372.h5',\n",
    "#t43.77499999999998_lon7.491\n",
    "\n",
    "\n",
    "## AIM: flip only lat values but keep lon in unchanged order\n",
    "#lat_indices = lat_indices[::-1] #[:3]\n",
    "#lat_indices = list(map(lambda x:x+1, lat_indices))\n",
    "\n",
    "#ts#.unique()\n",
    "i"
   ]
  },
  {
   "cell_type": "code",
   "execution_count": 92,
   "metadata": {},
   "outputs": [
    {
     "name": "stdout",
     "output_type": "stream",
     "text": [
      "Index(['ds', 'y', 'cfact', 'logp'], dtype='object')\n",
      "wrote data from /mnt/c/Users/Anna/Documents/UNI/PIK/develop/test_output/timeseries/hurs/lat_43.77499999999998/ts_GSWP3-W5E5_lat43.77499999999998_lon7.491666666666699.h5 to 20 0\n",
      "wrote data from /mnt/c/Users/Anna/Documents/UNI/PIK/develop/test_output/timeseries/hurs/lat_43.77499999999998/ts_GSWP3-W5E5_lat43.77499999999998_lon7.508333333333372.h5 to 19 1\n",
      "wrote data from /mnt/c/Users/Anna/Documents/UNI/PIK/develop/test_output/timeseries/hurs/lat_43.77499999999998/ts_GSWP3-W5E5_lat43.77499999999998_lon7.558333333333369.h5 to 18 2\n",
      "wrote data from /mnt/c/Users/Anna/Documents/UNI/PIK/develop/test_output/timeseries/hurs/lat_43.77499999999998/ts_GSWP3-W5E5_lat43.77499999999998_lon7.641666666666705.h5 to 17 3\n",
      "wrote data from /mnt/c/Users/Anna/Documents/UNI/PIK/develop/test_output/timeseries/hurs/lat_43.77499999999998/ts_GSWP3-W5E5_lat43.77499999999998_lon7.6583333333333705.h5 to 16 4\n",
      "wrote data from /mnt/c/Users/Anna/Documents/UNI/PIK/develop/test_output/timeseries/hurs/lat_43.77499999999998/ts_GSWP3-W5E5_lat43.77499999999998_lon7.675000000000036.h5 to 15 5\n",
      "wrote data from /mnt/c/Users/Anna/Documents/UNI/PIK/develop/test_output/timeseries/hurs/lat_43.79166666666664/ts_GSWP3-W5E5_lat43.79166666666664_lon7.491666666666699.h5 to 14 6\n",
      "wrote data from /mnt/c/Users/Anna/Documents/UNI/PIK/develop/test_output/timeseries/hurs/lat_43.79166666666664/ts_GSWP3-W5E5_lat43.79166666666664_lon7.508333333333372.h5 to 13 7\n",
      "wrote data from /mnt/c/Users/Anna/Documents/UNI/PIK/develop/test_output/timeseries/hurs/lat_43.79166666666664/ts_GSWP3-W5E5_lat43.79166666666664_lon7.525000000000038.h5 to 12 8\n",
      "wrote data from /mnt/c/Users/Anna/Documents/UNI/PIK/develop/test_output/timeseries/hurs/lat_43.79166666666664/ts_GSWP3-W5E5_lat43.79166666666664_lon7.541666666666703.h5 to 11 9\n",
      "wrote data from /mnt/c/Users/Anna/Documents/UNI/PIK/develop/test_output/timeseries/hurs/lat_43.79166666666664/ts_GSWP3-W5E5_lat43.79166666666664_lon7.558333333333369.h5 to 10 10\n",
      "wrote data from /mnt/c/Users/Anna/Documents/UNI/PIK/develop/test_output/timeseries/hurs/lat_43.79166666666664/ts_GSWP3-W5E5_lat43.79166666666664_lon7.575000000000035.h5 to 9 11\n",
      "wrote data from /mnt/c/Users/Anna/Documents/UNI/PIK/develop/test_output/timeseries/hurs/lat_43.79166666666664/ts_GSWP3-W5E5_lat43.79166666666664_lon7.5916666666667005.h5 to 8 12\n",
      "wrote data from /mnt/c/Users/Anna/Documents/UNI/PIK/develop/test_output/timeseries/hurs/lat_43.79166666666664/ts_GSWP3-W5E5_lat43.79166666666664_lon7.608333333333366.h5 to 7 13\n",
      "wrote data from /mnt/c/Users/Anna/Documents/UNI/PIK/develop/test_output/timeseries/hurs/lat_43.79166666666664/ts_GSWP3-W5E5_lat43.79166666666664_lon7.625000000000032.h5 to 6 14\n",
      "wrote data from /mnt/c/Users/Anna/Documents/UNI/PIK/develop/test_output/timeseries/hurs/lat_43.79166666666664/ts_GSWP3-W5E5_lat43.79166666666664_lon7.641666666666705.h5 to 5 15\n",
      "wrote data from /mnt/c/Users/Anna/Documents/UNI/PIK/develop/test_output/timeseries/hurs/lat_43.79166666666664/ts_GSWP3-W5E5_lat43.79166666666664_lon7.6583333333333705.h5 to 4 16\n",
      "wrote data from /mnt/c/Users/Anna/Documents/UNI/PIK/develop/test_output/timeseries/hurs/lat_43.79166666666664/ts_GSWP3-W5E5_lat43.79166666666664_lon7.675000000000036.h5 to 3 17\n",
      "wrote data from /mnt/c/Users/Anna/Documents/UNI/PIK/develop/test_output/timeseries/hurs/lat_43.79166666666664/ts_GSWP3-W5E5_lat43.79166666666664_lon7.691666666666702.h5 to 2 18\n",
      "wrote data from /mnt/c/Users/Anna/Documents/UNI/PIK/develop/test_output/timeseries/hurs/lat_43.79166666666664/ts_GSWP3-W5E5_lat43.79166666666664_lon7.708333333333368.h5 to 1 19\n",
      "wrote data from /mnt/c/Users/Anna/Documents/UNI/PIK/develop/test_output/timeseries/hurs/lat_43.80833333333331/ts_GSWP3-W5E5_lat43.80833333333331_lon7.491666666666699.h5 to 0 20\n"
     ]
    },
    {
     "ename": "IndexError",
     "evalue": "only integers, slices (`:`), ellipsis (`...`), and 1-d integer or boolean arrays are valid indices",
     "output_type": "error",
     "traceback": [
      "\u001b[0;31m---------------------------------------------------------------------------\u001b[0m",
      "\u001b[0;31mTypeError\u001b[0m                                 Traceback (most recent call last)",
      "\u001b[0;32m~/anaconda3/envs/attrici_yml/lib/python3.7/site-packages/netCDF4/utils.py\u001b[0m in \u001b[0;36m_StartCountStride\u001b[0;34m(elem, shape, dimensions, grp, datashape, put, no_get_vars)\u001b[0m\n\u001b[1;32m    280\u001b[0m             \u001b[0;32mtry\u001b[0m\u001b[0;34m:\u001b[0m\u001b[0;34m\u001b[0m\u001b[0;34m\u001b[0m\u001b[0m\n\u001b[0;32m--> 281\u001b[0;31m                 \u001b[0me\u001b[0m \u001b[0;34m=\u001b[0m \u001b[0mint\u001b[0m\u001b[0;34m(\u001b[0m\u001b[0me\u001b[0m\u001b[0;34m)\u001b[0m\u001b[0;34m\u001b[0m\u001b[0;34m\u001b[0m\u001b[0m\n\u001b[0m\u001b[1;32m    282\u001b[0m                 \u001b[0mnewElem\u001b[0m\u001b[0;34m.\u001b[0m\u001b[0mappend\u001b[0m\u001b[0;34m(\u001b[0m\u001b[0me\u001b[0m\u001b[0;34m)\u001b[0m\u001b[0;34m\u001b[0m\u001b[0;34m\u001b[0m\u001b[0m\n",
      "\u001b[0;31mTypeError\u001b[0m: int() argument must be a string, a bytes-like object or a number, not 'NoneType'",
      "\nDuring handling of the above exception, another exception occurred:\n",
      "\u001b[0;31mIndexError\u001b[0m                                Traceback (most recent call last)",
      "\u001b[0;32m<ipython-input-92-bf404af05c92>\u001b[0m in \u001b[0;36m<module>\u001b[0;34m\u001b[0m\n\u001b[1;32m      7\u001b[0m         \u001b[0;31m# if head == \"cfact\":\u001b[0m\u001b[0;34m\u001b[0m\u001b[0;34m\u001b[0m\u001b[0;34m\u001b[0m\u001b[0m\n\u001b[1;32m      8\u001b[0m         \u001b[0mts\u001b[0m \u001b[0;34m=\u001b[0m \u001b[0mdf\u001b[0m\u001b[0;34m[\u001b[0m\u001b[0mhead\u001b[0m\u001b[0;34m]\u001b[0m\u001b[0;34m\u001b[0m\u001b[0;34m\u001b[0m\u001b[0m\n\u001b[0;32m----> 9\u001b[0;31m         \u001b[0mout\u001b[0m\u001b[0;34m.\u001b[0m\u001b[0mvariables\u001b[0m\u001b[0;34m[\u001b[0m\u001b[0mhead\u001b[0m\u001b[0;34m]\u001b[0m\u001b[0;34m[\u001b[0m \u001b[0;34m:\u001b[0m\u001b[0;34m,\u001b[0m \u001b[0mi\u001b[0m\u001b[0;34m,\u001b[0m \u001b[0mj\u001b[0m\u001b[0;34m]\u001b[0m \u001b[0;34m=\u001b[0m \u001b[0mnp\u001b[0m\u001b[0;34m.\u001b[0m\u001b[0marray\u001b[0m\u001b[0;34m(\u001b[0m\u001b[0mts\u001b[0m\u001b[0;34m)\u001b[0m\u001b[0;34m\u001b[0m\u001b[0;34m\u001b[0m\u001b[0m\n\u001b[0m\u001b[1;32m     10\u001b[0m         \u001b[0;31m#out.variables[head][ :, i, j] = np.flip(np.array(ts))\u001b[0m\u001b[0;34m\u001b[0m\u001b[0;34m\u001b[0m\u001b[0;34m\u001b[0m\u001b[0m\n\u001b[1;32m     11\u001b[0m         \u001b[0;31m#out.variables[head][ :, i, j] = np.flip(out.variables[head][ :, i, j]) # doesnt burn into out.file permanent\u001b[0m\u001b[0;34m\u001b[0m\u001b[0;34m\u001b[0m\u001b[0;34m\u001b[0m\u001b[0m\n",
      "\u001b[0;32mnetCDF4/_netCDF4.pyx\u001b[0m in \u001b[0;36mnetCDF4._netCDF4.Variable.__setitem__\u001b[0;34m()\u001b[0m\n",
      "\u001b[0;32m~/anaconda3/envs/attrici_yml/lib/python3.7/site-packages/netCDF4/utils.py\u001b[0m in \u001b[0;36m_StartCountStride\u001b[0;34m(elem, shape, dimensions, grp, datashape, put, no_get_vars)\u001b[0m\n\u001b[1;32m    282\u001b[0m                 \u001b[0mnewElem\u001b[0m\u001b[0;34m.\u001b[0m\u001b[0mappend\u001b[0m\u001b[0;34m(\u001b[0m\u001b[0me\u001b[0m\u001b[0;34m)\u001b[0m\u001b[0;34m\u001b[0m\u001b[0;34m\u001b[0m\u001b[0m\n\u001b[1;32m    283\u001b[0m             \u001b[0;32mexcept\u001b[0m\u001b[0;34m:\u001b[0m\u001b[0;34m\u001b[0m\u001b[0;34m\u001b[0m\u001b[0m\n\u001b[0;32m--> 284\u001b[0;31m                 \u001b[0;32mraise\u001b[0m \u001b[0mIndexError\u001b[0m\u001b[0;34m(\u001b[0m\u001b[0mIndexErrorMsg\u001b[0m\u001b[0;34m)\u001b[0m\u001b[0;34m\u001b[0m\u001b[0;34m\u001b[0m\u001b[0m\n\u001b[0m\u001b[1;32m    285\u001b[0m         \u001b[0;32mif\u001b[0m \u001b[0mtype\u001b[0m\u001b[0;34m(\u001b[0m\u001b[0me\u001b[0m\u001b[0;34m)\u001b[0m\u001b[0;34m==\u001b[0m\u001b[0mtype\u001b[0m\u001b[0;34m(\u001b[0m\u001b[0mEllipsis\u001b[0m\u001b[0;34m)\u001b[0m\u001b[0;34m:\u001b[0m\u001b[0;34m\u001b[0m\u001b[0;34m\u001b[0m\u001b[0m\n\u001b[1;32m    286\u001b[0m             \u001b[0mi\u001b[0m\u001b[0;34m+=\u001b[0m\u001b[0;36m1\u001b[0m\u001b[0;34m+\u001b[0m\u001b[0mnDims\u001b[0m\u001b[0;34m-\u001b[0m\u001b[0mlen\u001b[0m\u001b[0;34m(\u001b[0m\u001b[0melem\u001b[0m\u001b[0;34m)\u001b[0m\u001b[0;34m\u001b[0m\u001b[0;34m\u001b[0m\u001b[0m\n",
      "\u001b[0;31mIndexError\u001b[0m: only integers, slices (`:`), ellipsis (`...`), and 1-d integer or boolean arrays are valid indices"
     ]
    }
   ],
   "source": [
    "print(headers)\n",
    "\n",
    "for (i, j, dfpath) in it.zip_longest(lat_indices, lon_indices, data_list):\n",
    "    df = pp.read_from_disk(dfpath)\n",
    "    \n",
    "    for head in headers:\n",
    "        # if head == \"cfact\":\n",
    "        ts = df[head]\n",
    "        out.variables[head][ :, i, j] = np.array(ts)\n",
    "        #out.variables[head][ :, i, j] = np.flip(np.array(ts))\n",
    "        #out.variables[head][ :, i, j] = np.flip(out.variables[head][ :, i, j]) # doesnt burn into out.file permanent\n",
    "\n",
    "    print(\"wrote data from\", dfpath, \"to\", i, j)\n",
    "    \n",
    "\n",
    "## flip bottom to top\n",
    "# gdal_command_flip = f\"gdal_translate -of netCDF -co WRITE_BOTTOMUP=YES {s.variable}_test_sub1_4_1.nc4 {s.variable}_flippedLat.nc4\"\n",
    "# os.system(gdal_command_flip)\n",
    "\n",
    "#out.close()\n",
    "\n",
    "#43.77499999999998_lon7.508333333333372\n",
    "\n",
    "## fehlt vllt beim schreiben die erste datenreihe? da die erste lat zu niedrig ist- müsste eher genau ursp. lat sein  -- NOPE \n",
    "## output.pynb: scheint so dass 20.0 0 bis 20.0 13.0 überschrieben # wird ebenso 19.0 0.0 bis 19.0 3.0 --> vgl mit sub40 = teils auch doubles\n",
    "## flip out.nc ( not used []::-1])\n"
   ]
  },
  {
   "cell_type": "code",
   "execution_count": 94,
   "metadata": {},
   "outputs": [
    {
     "data": {
      "text/plain": [
       "1"
      ]
     },
     "execution_count": 94,
     "metadata": {},
     "output_type": "execute_result"
    }
   ],
   "source": [
    "#out.variables[\"cfact\"] = np.flip(out.variables[\"cfact\"])\n",
    "# out.close()\n"
   ]
  },
  {
   "cell_type": "code",
   "execution_count": 138,
   "metadata": {},
   "outputs": [],
   "source": [
    "# try:\n",
    "#     #command_flip  = f\"cdo invertlatdata {cfact_file} /mnt/c/Users/Anna/Documents/UNI/PIK/develop/test_output/cfact/hurs/out_flippedLat_nb.nc4\"\n",
    "#     command_flip = f\"gdal_translate -of netCDF -co WRITE_BOTTOMUP=YES {cfact_file} out_flippedLat_gdal_nb.nc4\"\n",
    "#     print(command_flip)\n",
    "#     subprocess.check_call(command_flip, shell=True)\n",
    "# except subprocess.CalledProcessError:\n",
    "#     # command_flip = \"module load gdal && \" + command_flip\n",
    "#     print(command_flip)\n",
    "#     subprocess.check_call(command_flip, shell=True)\n",
    "\n"
   ]
  },
  {
   "cell_type": "code",
   "execution_count": 139,
   "metadata": {},
   "outputs": [],
   "source": [
    "#out_t = out#.variables[\"cfact\"][ 8, :, :]\n",
    "#out.variables[\"cfact\"] = np.flip(out.variables[\"cfact\"])\n"
   ]
  },
  {
   "cell_type": "code",
   "execution_count": 96,
   "metadata": {},
   "outputs": [
    {
     "data": {
      "text/plain": [
       "<matplotlib.contour.QuadContourSet at 0x7f39f5542cc0>"
      ]
     },
     "execution_count": 96,
     "metadata": {},
     "output_type": "execute_result"
    },
    {
     "data": {
      "image/png": "[encoded data removed]",
      "text/plain": [
       "<Figure size 432x288 with 1 Axes>"
      ]
     },
     "metadata": {
      "needs_background": "light"
     },
     "output_type": "display_data"
    }
   ],
   "source": [
    "plt.contourf(out.variables[\"cfact\"][ 0, :, :])\n"
   ]
  },
  {
   "cell_type": "code",
   "execution_count": 76,
   "metadata": {},
   "outputs": [],
   "source": [
    "out.close()\n"
   ]
  },
  {
   "cell_type": "code",
   "execution_count": 185,
   "metadata": {},
   "outputs": [
    {
     "data": {
      "text/plain": [
       "<matplotlib.contour.QuadContourSet at 0x7f1ffb033d68>"
      ]
     },
     "execution_count": 185,
     "metadata": {},
     "output_type": "execute_result"
    },
    {
     "data": {
      "image/png": "[encoded data removed]",
      "text/plain": [
       "<Figure size 432x288 with 1 Axes>"
      ]
     },
     "metadata": {
      "needs_background": "light"
     },
     "output_type": "display_data"
    }
   ],
   "source": [
    "plt.contourf(out.variables[\"y\"][ 8, :, :])"
   ]
  },
  {
   "cell_type": "code",
   "execution_count": 100,
   "metadata": {},
   "outputs": [
    {
     "ename": "AttributeError",
     "evalue": "'MaskedArray' object has no attribute 'close'",
     "output_type": "error",
     "traceback": [
      "\u001b[0;31m---------------------------------------------------------------------------\u001b[0m",
      "\u001b[0;31mAttributeError\u001b[0m                            Traceback (most recent call last)",
      "\u001b[0;32m<ipython-input-100-09523833562d>\u001b[0m in \u001b[0;36m<module>\u001b[0;34m\u001b[0m\n\u001b[0;32m----> 1\u001b[0;31m \u001b[0mout\u001b[0m\u001b[0;34m.\u001b[0m\u001b[0mclose\u001b[0m\u001b[0;34m(\u001b[0m\u001b[0;34m)\u001b[0m\u001b[0;34m\u001b[0m\u001b[0;34m\u001b[0m\u001b[0m\n\u001b[0m",
      "\u001b[0;31mAttributeError\u001b[0m: 'MaskedArray' object has no attribute 'close'"
     ]
    }
   ],
   "source": [
    "out.close()\n"
   ]
  },
  {
   "cell_type": "code",
   "execution_count": 35,
   "metadata": {},
   "outputs": [
    {
     "data": {
      "text/plain": [
       "10.0    21\n",
       "11.0    21\n",
       "19.0    21\n",
       "18.0    21\n",
       "17.0    21\n",
       "16.0    21\n",
       "15.0    21\n",
       "14.0    21\n",
       "13.0    21\n",
       "12.0    21\n",
       "20.0    21\n",
       "9.0     21\n",
       "8.0     21\n",
       "7.0     21\n",
       "6.0     21\n",
       "5.0     21\n",
       "4.0     21\n",
       "3.0     21\n",
       "2.0     18\n",
       "1.0     14\n",
       "0.0      6\n",
       "dtype: int64"
      ]
     },
     "execution_count": 35,
     "metadata": {},
     "output_type": "execute_result"
    }
   ],
   "source": [
    "## make lat_indeces that number of 0s is same as number of 20s in old lat_indices\n",
    "pd.Series(lat_indices).value_counts()\n",
    "\n",
    "## OR\n",
    "## make datalist that only order of lats is reversed, not of lons\n",
    "### ie   lat1, lon1   ,   lat2, lon2   , lat3, lon3  ... nth\n",
    "###  --> lat3, lon1   ,   lat2, lon2   , lat1, lon3  .. nth"
   ]
  },
  {
   "cell_type": "code",
   "execution_count": null,
   "metadata": {},
   "outputs": [],
   "source": []
  },
  {
   "cell_type": "code",
   "execution_count": null,
   "metadata": {},
   "outputs": [],
   "source": []
  },
  {
   "cell_type": "code",
   "execution_count": null,
   "metadata": {},
   "outputs": [],
   "source": [
    "## RESTE"
   ]
  },
  {
   "cell_type": "code",
   "execution_count": 91,
   "metadata": {},
   "outputs": [],
   "source": [
    "## test only with cfact = head\n",
    "\n",
    "\n",
    "# for (i, j, dfpath) in it.zip_longest(lat_indices, lon_indices, data_list):\n",
    "\n",
    "#     df = pp.read_from_disk(dfpath)\n",
    "#     for head in headers:\n",
    "#         head =\"cfact\"\n",
    "#         print(i, j)\n",
    "#         ts = df[head]\n",
    "#         out.variables[head][:, i, j] = np.array(ts)\n",
    "#     #print(\"wrote data from\", dfpath, \"to\", i, j)\n",
    "\n",
    "# out.close()\n",
    "# print(\"Successfully wrote\", cfact_file, \"file. Took\")\n",
    "# print(\"It took {0:.1f} minutes.\".format((datetime.now() - TIME0).total_seconds() / 60))\n"
   ]
  },
  {
   "cell_type": "code",
   "execution_count": 259,
   "metadata": {},
   "outputs": [],
   "source": [
    "ncf = nc.Dataset(f\"/mnt/c/Users/Anna/Documents/UNI/PIK/hpc/output_test/cfact/hurs/hurs_test7.nc4\", \"r\")\n",
    "ncf.close()\n",
    "#ncf.variables"
   ]
  },
  {
   "cell_type": "code",
   "execution_count": 258,
   "metadata": {},
   "outputs": [
    {
     "data": {
      "text/plain": [
       "masked_array(\n",
       "  data=[[[--, --, --, ..., --, --, --],\n",
       "         [--, 67.03939819335938, 67.03939819335938, ..., --, --, --],\n",
       "         [--, 67.03939819335938, 67.03939819335938, ...,\n",
       "          61.868350982666016, --, --],\n",
       "         ...,\n",
       "         [--, --, --, ..., --, --, --],\n",
       "         [--, --, --, ..., --, --, --],\n",
       "         [--, --, --, ..., --, --, --]],\n",
       "\n",
       "        [[--, --, --, ..., --, --, --],\n",
       "         [--, 70.62744903564453, 70.62744903564453, ..., --, --, --],\n",
       "         [--, 70.62744903564453, 70.62744903564453, ...,\n",
       "          65.06389617919922, --, --],\n",
       "         ...,\n",
       "         [--, --, --, ..., --, --, --],\n",
       "         [--, --, --, ..., --, --, --],\n",
       "         [--, --, --, ..., --, --, --]],\n",
       "\n",
       "        [[--, --, --, ..., --, --, --],\n",
       "         [--, 76.68173217773438, 76.68173217773438, ..., --, --, --],\n",
       "         [--, 76.68173217773438, 76.68173217773438, ...,\n",
       "          73.73005676269531, --, --],\n",
       "         ...,\n",
       "         [--, --, --, ..., --, --, --],\n",
       "         [--, --, --, ..., --, --, --],\n",
       "         [--, --, --, ..., --, --, --]],\n",
       "\n",
       "        ...,\n",
       "\n",
       "        [[--, --, --, ..., --, --, --],\n",
       "         [--, 69.70886993408203, 69.70886993408203, ..., --, --, --],\n",
       "         [--, 69.70886993408203, 69.70886993408203, ...,\n",
       "          68.53194427490234, --, --],\n",
       "         ...,\n",
       "         [--, --, --, ..., --, --, --],\n",
       "         [--, --, --, ..., --, --, --],\n",
       "         [--, --, --, ..., --, --, --]],\n",
       "\n",
       "        [[--, --, --, ..., --, --, --],\n",
       "         [--, 69.82759094238281, 69.82759094238281, ..., --, --, --],\n",
       "         [--, 69.82759094238281, 69.82759094238281, ...,\n",
       "          66.38607025146484, --, --],\n",
       "         ...,\n",
       "         [--, --, --, ..., --, --, --],\n",
       "         [--, --, --, ..., --, --, --],\n",
       "         [--, --, --, ..., --, --, --]],\n",
       "\n",
       "        [[--, --, --, ..., --, --, --],\n",
       "         [--, 66.25823974609375, 66.25823974609375, ..., --, --, --],\n",
       "         [--, 66.25823974609375, 66.25823974609375, ...,\n",
       "          66.77202606201172, --, --],\n",
       "         ...,\n",
       "         [--, --, --, ..., --, --, --],\n",
       "         [--, --, --, ..., --, --, --],\n",
       "         [--, --, --, ..., --, --, --]]],\n",
       "  mask=[[[ True,  True,  True, ...,  True,  True,  True],\n",
       "         [ True, False, False, ...,  True,  True,  True],\n",
       "         [ True, False, False, ..., False,  True,  True],\n",
       "         ...,\n",
       "         [ True,  True,  True, ...,  True,  True,  True],\n",
       "         [ True,  True,  True, ...,  True,  True,  True],\n",
       "         [ True,  True,  True, ...,  True,  True,  True]],\n",
       "\n",
       "        [[ True,  True,  True, ...,  True,  True,  True],\n",
       "         [ True, False, False, ...,  True,  True,  True],\n",
       "         [ True, False, False, ..., False,  True,  True],\n",
       "         ...,\n",
       "         [ True,  True,  True, ...,  True,  True,  True],\n",
       "         [ True,  True,  True, ...,  True,  True,  True],\n",
       "         [ True,  True,  True, ...,  True,  True,  True]],\n",
       "\n",
       "        [[ True,  True,  True, ...,  True,  True,  True],\n",
       "         [ True, False, False, ...,  True,  True,  True],\n",
       "         [ True, False, False, ..., False,  True,  True],\n",
       "         ...,\n",
       "         [ True,  True,  True, ...,  True,  True,  True],\n",
       "         [ True,  True,  True, ...,  True,  True,  True],\n",
       "         [ True,  True,  True, ...,  True,  True,  True]],\n",
       "\n",
       "        ...,\n",
       "\n",
       "        [[ True,  True,  True, ...,  True,  True,  True],\n",
       "         [ True, False, False, ...,  True,  True,  True],\n",
       "         [ True, False, False, ..., False,  True,  True],\n",
       "         ...,\n",
       "         [ True,  True,  True, ...,  True,  True,  True],\n",
       "         [ True,  True,  True, ...,  True,  True,  True],\n",
       "         [ True,  True,  True, ...,  True,  True,  True]],\n",
       "\n",
       "        [[ True,  True,  True, ...,  True,  True,  True],\n",
       "         [ True, False, False, ...,  True,  True,  True],\n",
       "         [ True, False, False, ..., False,  True,  True],\n",
       "         ...,\n",
       "         [ True,  True,  True, ...,  True,  True,  True],\n",
       "         [ True,  True,  True, ...,  True,  True,  True],\n",
       "         [ True,  True,  True, ...,  True,  True,  True]],\n",
       "\n",
       "        [[ True,  True,  True, ...,  True,  True,  True],\n",
       "         [ True, False, False, ...,  True,  True,  True],\n",
       "         [ True, False, False, ..., False,  True,  True],\n",
       "         ...,\n",
       "         [ True,  True,  True, ...,  True,  True,  True],\n",
       "         [ True,  True,  True, ...,  True,  True,  True],\n",
       "         [ True,  True,  True, ...,  True,  True,  True]]],\n",
       "  fill_value=1e+20,\n",
       "  dtype=float32)"
      ]
     },
     "execution_count": 258,
     "metadata": {},
     "output_type": "execute_result"
    }
   ],
   "source": [
    "np.squeeze(ncf.variables[\"cfact\"][:])"
   ]
  },
  {
   "cell_type": "code",
   "execution_count": 91,
   "metadata": {},
   "outputs": [
    {
     "data": {
      "text/plain": [
       "masked_array(data=[67.0394 , 70.62745, 76.68173, ..., 69.70887, 69.82759,\n",
       "                   66.25824],\n",
       "             mask=False,\n",
       "       fill_value=1e+20,\n",
       "            dtype=float32)"
      ]
     },
     "execution_count": 91,
     "metadata": {},
     "output_type": "execute_result"
    }
   ],
   "source": [
    "# ts.shape  #len 25932\n",
    "# out.variables[head][ :, 3, 3] = np.array(ts)\n",
    "# out.variables[head][ :, 3.0, 3.0]\n",
    "# #out.variables#[\"ds\"][:4]\n",
    "# #np.array(ts)[10598:,]\n",
    "\n",
    "#out.variables#[head]#[:, i, j]"
   ]
  },
  {
   "cell_type": "code",
   "execution_count": 77,
   "metadata": {},
   "outputs": [
    {
     "data": {
      "text/html": [
       "<div>\n",
       "<style scoped>\n",
       "    .dataframe tbody tr th:only-of-type {\n",
       "        vertical-align: middle;\n",
       "    }\n",
       "\n",
       "    .dataframe tbody tr th {\n",
       "        vertical-align: top;\n",
       "    }\n",
       "\n",
       "    .dataframe thead th {\n",
       "        text-align: right;\n",
       "    }\n",
       "</style>\n",
       "<table border=\"1\" class=\"dataframe\">\n",
       "  <thead>\n",
       "    <tr style=\"text-align: right;\">\n",
       "      <th></th>\n",
       "      <th>ds</th>\n",
       "      <th>y</th>\n",
       "      <th>cfact</th>\n",
       "      <th>logp</th>\n",
       "    </tr>\n",
       "  </thead>\n",
       "  <tbody>\n",
       "    <tr>\n",
       "      <th>0</th>\n",
       "      <td>1950-01-01 00:30:00</td>\n",
       "      <td>67.036102</td>\n",
       "      <td>67.039398</td>\n",
       "      <td>8.842037</td>\n",
       "    </tr>\n",
       "    <tr>\n",
       "      <th>1</th>\n",
       "      <td>1950-01-02 00:00:00</td>\n",
       "      <td>70.625092</td>\n",
       "      <td>70.627448</td>\n",
       "      <td>8.842037</td>\n",
       "    </tr>\n",
       "    <tr>\n",
       "      <th>2</th>\n",
       "      <td>1950-01-03 00:00:00</td>\n",
       "      <td>76.680359</td>\n",
       "      <td>76.681732</td>\n",
       "      <td>8.842037</td>\n",
       "    </tr>\n",
       "    <tr>\n",
       "      <th>3</th>\n",
       "      <td>1950-01-04 00:00:00</td>\n",
       "      <td>67.510025</td>\n",
       "      <td>67.510654</td>\n",
       "      <td>8.842037</td>\n",
       "    </tr>\n",
       "    <tr>\n",
       "      <th>4</th>\n",
       "      <td>1950-01-05 00:00:00</td>\n",
       "      <td>80.589287</td>\n",
       "      <td>80.589056</td>\n",
       "      <td>8.842037</td>\n",
       "    </tr>\n",
       "    <tr>\n",
       "      <th>...</th>\n",
       "      <td>...</td>\n",
       "      <td>...</td>\n",
       "      <td>...</td>\n",
       "      <td>...</td>\n",
       "    </tr>\n",
       "    <tr>\n",
       "      <th>25928</th>\n",
       "      <td>2020-12-27 00:00:00</td>\n",
       "      <td>58.250774</td>\n",
       "      <td>58.926831</td>\n",
       "      <td>8.842037</td>\n",
       "    </tr>\n",
       "    <tr>\n",
       "      <th>25929</th>\n",
       "      <td>2020-12-28 00:00:00</td>\n",
       "      <td>74.442665</td>\n",
       "      <td>74.990903</td>\n",
       "      <td>8.842037</td>\n",
       "    </tr>\n",
       "    <tr>\n",
       "      <th>25930</th>\n",
       "      <td>2020-12-29 00:00:00</td>\n",
       "      <td>69.187439</td>\n",
       "      <td>69.708870</td>\n",
       "      <td>8.842037</td>\n",
       "    </tr>\n",
       "    <tr>\n",
       "      <th>25931</th>\n",
       "      <td>2020-12-30 00:00:00</td>\n",
       "      <td>69.370735</td>\n",
       "      <td>69.827595</td>\n",
       "      <td>8.842037</td>\n",
       "    </tr>\n",
       "    <tr>\n",
       "      <th>25932</th>\n",
       "      <td>2020-12-31 00:00:00</td>\n",
       "      <td>65.857162</td>\n",
       "      <td>66.258237</td>\n",
       "      <td>8.842037</td>\n",
       "    </tr>\n",
       "  </tbody>\n",
       "</table>\n",
       "<p>25933 rows × 4 columns</p>\n",
       "</div>"
      ],
      "text/plain": [
       "                       ds          y      cfact      logp\n",
       "0     1950-01-01 00:30:00  67.036102  67.039398  8.842037\n",
       "1     1950-01-02 00:00:00  70.625092  70.627448  8.842037\n",
       "2     1950-01-03 00:00:00  76.680359  76.681732  8.842037\n",
       "3     1950-01-04 00:00:00  67.510025  67.510654  8.842037\n",
       "4     1950-01-05 00:00:00  80.589287  80.589056  8.842037\n",
       "...                   ...        ...        ...       ...\n",
       "25928 2020-12-27 00:00:00  58.250774  58.926831  8.842037\n",
       "25929 2020-12-28 00:00:00  74.442665  74.990903  8.842037\n",
       "25930 2020-12-29 00:00:00  69.187439  69.708870  8.842037\n",
       "25931 2020-12-30 00:00:00  69.370735  69.827595  8.842037\n",
       "25932 2020-12-31 00:00:00  65.857162  66.258237  8.842037\n",
       "\n",
       "[25933 rows x 4 columns]"
      ]
     },
     "execution_count": 77,
     "metadata": {},
     "output_type": "execute_result"
    }
   ],
   "source": [
    "df"
   ]
  },
  {
   "cell_type": "code",
   "execution_count": null,
   "metadata": {},
   "outputs": [],
   "source": []
  },
  {
   "cell_type": "code",
   "execution_count": null,
   "metadata": {},
   "outputs": [],
   "source": [
    "\n",
    "out.close()\n",
    "print(\"Successfully wrote\", cfact_file, \"file. Took\")\n",
    "print(\"It took {0:.1f} minutes.\".format((datetime.now() - TIME0).total_seconds() / 60))\n",
    "\n",
    "if rechunk:\n",
    "    cfact_rechunked = pp.rechunk_netcdf(cfact_file)\n"
   ]
  },
  {
   "cell_type": "code",
   "execution_count": null,
   "metadata": {},
   "outputs": [],
   "source": [
    "\n",
    "if cdo_processing:\n",
    "    cdo_ops = {\n",
    "        \"monmean\": \"monmean -selvar,cfact,y\",\n",
    "        \"yearmean\": \"yearmean -selvar,cfact,y\",\n",
    "        #    \"monmean_valid\": \"monmean -setrtomiss,-1e20,1.1574e-06 -selvar,cfact,y\",\n",
    "        #    \"yearmean_valid\": \"yearmean -setrtomiss,-1e20,1.1574e-06 -selvar,cfact,y\",\n",
    "        \"trend\": \"trend -selvar,cfact,y\",\n",
    "        #    \"trend_valid\": \"trend -setrtomiss,-1e20,1.1574e-06 -selvar,cfact,y\",\n",
    "    }\n",
    "\n",
    "    for cdo_op in cdo_ops:\n",
    "\n",
    "        outfile = str(cfact_file).rstrip(\".nc4\") + \"_\" + cdo_op + \".nc4\"\n",
    "        print(outfile)\n",
    "        if \"trend\" in cdo_op:\n",
    "            outfile = (\n",
    "                outfile.rstrip(\".nc4\") + \"_1.nc4 \" + outfile.rstrip(\".nc4\") + \"_2.nc4\"\n",
    "            )\n",
    "        try:\n",
    "            cmd = \"cdo \" + cdo_ops[cdo_op] + \" \" + cfact_rechunked + \" \" + outfile\n",
    "            print(cmd)\n",
    "            subprocess.check_call(cmd, shell=True)\n",
    "        except subprocess.CalledProcessError:\n",
    "            cmd = \"module load cdo && \" + cmd\n",
    "            print(cmd)\n",
    "            subprocess.check_call(cmd, shell=True)\n"
   ]
  },
  {
   "cell_type": "code",
   "execution_count": null,
   "metadata": {},
   "outputs": [],
   "source": []
  },
  {
   "cell_type": "code",
   "execution_count": null,
   "metadata": {},
   "outputs": [],
   "source": []
  }
 ],
 "metadata": {
  "kernelspec": {
   "display_name": "attrici_yml",
   "language": "python",
   "name": "python3"
  },
  "language_info": {
   "codemirror_mode": {
    "name": "ipython",
    "version": 3
   },
   "file_extension": ".py",
   "mimetype": "text/x-python",
   "name": "python",
   "nbconvert_exporter": "python",
   "pygments_lexer": "ipython3",
   "version": "3.7.3"
  },
  "orig_nbformat": 4,
  "vscode": {
   "interpreter": {
    "hash": "532409078990e73cf7a5cc7c94c0b3c10e564de71da68c3c26a770e0ab28fed7"
   }
  }
 },
 "nbformat": 4,
 "nbformat_minor": 2
}
