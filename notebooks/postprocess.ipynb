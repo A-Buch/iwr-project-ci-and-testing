{
 "cells": [
  {
   "cell_type": "code",
   "execution_count": null,
   "metadata": {},
   "outputs": [],
   "source": [
    "from merge_cfact import \n",
    "import math"
   ]
  },
  {
   "cell_type": "code",
   "execution_count": null,
   "metadata": {},
   "outputs": [],
   "source": [
    "def round_float_down(num, step=0):\n",
    "    '''\n",
    "    Takes a float and rounds it always down to user-defined decimal place\n",
    "    params: num : foat number\n",
    "    params: step : decimal place\n",
    "    return: float\n",
    "    Copied from : https://stackoverflow.com/questions/9404967/taking-the-floor-of-a-float\n",
    "    '''\n",
    "    if not step:\n",
    "        return math.floor(num)\n",
    "    if step < 0:\n",
    "        mplr = 10 ** (step * -1)\n",
    "        return math.floor(num / mplr) * mplr\n",
    "    ncnt = step\n",
    "    if 1 > step > 0:\n",
    "        ndec, ncnt = .0101, 1\n",
    "        while ndec > step:\n",
    "            ndec *= .1\n",
    "            ncnt += 1\n",
    "    mplr = 10 ** ncnt\n",
    "    return round(math.floor(num * mplr) / mplr, ncnt)"
   ]
  },
  {
   "cell_type": "code",
   "execution_count": null,
   "metadata": {},
   "outputs": [],
   "source": [
    "\n",
    "def rescale_aoi(coord_list, coord_float):\n",
    "    '''\n",
    "    Rescales squared aoi, returns rescaled indices latitude or longitude\n",
    "    params:  \n",
    "        coord_list: list of lat or lon coordinates of the aoi\n",
    "        coord_float: float, latitude or longitude derived from timeseries filename\n",
    "    return: integer\n",
    "    '''\n",
    "    ## get correct amount of indices by rounding down always the minimum extent and round up the maximum extent\n",
    "    coord_min = round_float_down(min(coord_list), 6) ## changed from 2 -> 6 for testarea_31\n",
    "    coord_max = math.ceil(max(coord_list)*100) / 100 \n",
    "\n",
    "    ## Formular: (new_max - new_min) / (old_max - old_min) * (v - old_min) + new_min\n",
    "    coord_indice = int( (coord_list.shape[0] - 0) / ( coord_max - coord_min) * (coord_float - coord_min) + 0 )\n",
    "\n",
    "    return coord_indice"
   ]
  }
 ],
 "metadata": {
  "language_info": {
   "name": "python"
  },
  "orig_nbformat": 4
 },
 "nbformat": 4,
 "nbformat_minor": 2
}
